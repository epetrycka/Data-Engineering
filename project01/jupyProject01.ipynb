{
 "cells": [
  {
   "cell_type": "markdown",
   "metadata": {},
   "source": [
    "Prepering data:"
   ]
  },
  {
   "cell_type": "code",
   "execution_count": 1,
   "metadata": {},
   "outputs": [],
   "source": [
    "import pandas as pd\n",
    "import numpy as np\n",
    "import json\n",
    "\n",
    "file_csv = \"Data/proj1_ex01.csv\"\n",
    "file_json = \"proj1_ex01_fields.json\"\n",
    "\n",
    "columns_array = []\n",
    "df = pd.read_csv(file_csv)\n",
    "\n",
    "columns_names = df.head(0).columns.values\n",
    "\n",
    "for column in columns_names:\n",
    "    data = df[column]\n",
    "    temp_dict = {\n",
    "        \"name\" :    data.name,\n",
    "        \"missing\" : data.isnull().mean(),\n",
    "        \"dtype\" :   \"int\" if np.issubdtype(data.dtypes, np.integer) else\n",
    "                    \"float\" if np.issubdtype(data.dtypes, np.floating) else\n",
    "                    \"other\"}\n",
    "    columns_array.append(temp_dict)\n",
    "\n",
    "with open (file_json, \"w\") as file:\n",
    "    json.dump(columns_array, file, indent=4)"
   ]
  },
  {
   "cell_type": "markdown",
   "metadata": {},
   "source": [
    "Value statistics:"
   ]
  },
  {
   "cell_type": "code",
   "execution_count": 2,
   "metadata": {},
   "outputs": [],
   "source": [
    "def string_statistics(data: pd.Series):\n",
    "    value_counts = data.value_counts()\n",
    "    \n",
    "    return {\n",
    "        \"count\": float(data.count()),\n",
    "        \"unique\": int(data.nunique()),\n",
    "        \"top\": value_counts.idxmax() if not value_counts.empty else None,\n",
    "        \"freq\": int(value_counts.max()) if not value_counts.empty else None\n",
    "    }\n",
    "\n",
    "def numeric_statistics(data: pd.Series):\n",
    "    stats = {\n",
    "        \"count\": data.count(),\n",
    "        \"mean\": data.mean(),\n",
    "        \"std\": data.std(),\n",
    "        \"min\": data.min(),\n",
    "        \"25%\": data.quantile(0.25),\n",
    "        \"50%\": data.median(),\n",
    "        \"75%\": data.quantile(0.75),\n",
    "        \"max\": data.max()\n",
    "    }\n",
    "    \n",
    "    return {key: float(value) for key, value in stats.items()}\n",
    "\n",
    "file_ex2 = \"proj1_ex02_stats.json\"\n",
    "ex2_results = {}\n",
    "\n",
    "for column in df.columns:\n",
    "    data = df[column]\n",
    "    if pd.api.types.is_numeric_dtype(data):\n",
    "        result = numeric_statistics(data)\n",
    "    else:\n",
    "        result = string_statistics(data)\n",
    "    \n",
    "    ex2_results[column] = result\n",
    "\n",
    "with open(file_ex2, \"w\") as file:\n",
    "    json.dump(ex2_results, file, indent=4)"
   ]
  },
  {
   "cell_type": "markdown",
   "metadata": {},
   "source": [
    "Column names normalizing:"
   ]
  },
  {
   "cell_type": "code",
   "execution_count": 3,
   "metadata": {},
   "outputs": [],
   "source": [
    "import re\n",
    "\n",
    "for column in columns_names:\n",
    "    changed_name = column.replace(' ', '_').lower()\n",
    "    changed_name = re.sub(r'[^a-zA-Z0-9_]', '', changed_name)\n",
    "    df.rename(columns={column : changed_name}, inplace=True)\n",
    "\n",
    "file_ex3 = \"proj1_ex03_columns.csv\"\n",
    "\n",
    "with open(file_ex3, 'w') as file:\n",
    "    df.to_csv(file_ex3, index=False)"
   ]
  },
  {
   "cell_type": "markdown",
   "metadata": {},
   "source": [
    "Output formats:"
   ]
  },
  {
   "cell_type": "code",
   "execution_count": 4,
   "metadata": {},
   "outputs": [],
   "source": [
    "try:\n",
    "    import openpyxl\n",
    "except ImportError:\n",
    "    import sys\n",
    "    import subprocess\n",
    "    subprocess.check_call([sys.executable, \"-m\", \"pip\", \"install\", \"openpyxl\"])"
   ]
  },
  {
   "cell_type": "code",
   "execution_count": 5,
   "metadata": {},
   "outputs": [],
   "source": [
    "file_xlsx_ex4 = \"proj1_ex04_excel.xlsx\"\n",
    "file_json_ex4 = \"proj1_ex04_json.json\"\n",
    "file_pkl_ex4 = \"proj1_ex04_pickle.pkl\"\n",
    "\n",
    "df.to_excel(file_xlsx_ex4, index=False)\n",
    "df.to_json(file_json_ex4, orient=\"records\", indent=4)\n",
    "df.to_pickle(file_pkl_ex4)"
   ]
  },
  {
   "cell_type": "markdown",
   "metadata": {},
   "source": [
    "Selecting rows and columns:"
   ]
  },
  {
   "cell_type": "code",
   "execution_count": 6,
   "metadata": {},
   "outputs": [],
   "source": [
    "file_pkl_ex5 = \"Data/proj1_ex05.pkl\"\n",
    "\n",
    "df_ex5 = pd.read_pickle(file_pkl_ex5)"
   ]
  },
  {
   "cell_type": "code",
   "execution_count": 7,
   "metadata": {},
   "outputs": [
    {
     "name": "stdout",
     "output_type": "stream",
     "text": [
      "                    name          description   age\n",
      "v                      V      Freedom fighter   NaN\n",
      "evey        Evey Hammond        Revolutionary  16.0\n",
      "finch         Eric Finch     Police detective  40.0\n",
      "creedy      Peter Creedy  Government official  49.0\n",
      "gordon   Gordon Deitrich       Talk show host  38.0\n",
      "valerie     Valerie Page              Actress   NaN\n",
      "delia     Delia Surridge   Medical researcher  50.0\n"
     ]
    }
   ],
   "source": [
    "print(df_ex5)"
   ]
  },
  {
   "cell_type": "code",
   "execution_count": 8,
   "metadata": {},
   "outputs": [],
   "source": [
    "try:\n",
    "    import tabulate\n",
    "except ImportError:\n",
    "    import sys\n",
    "    import subprocess\n",
    "    subprocess.check_call([sys.executable, \"-m\", \"pip\", \"install\", \"tabulate\"])"
   ]
  },
  {
   "cell_type": "code",
   "execution_count": 9,
   "metadata": {},
   "outputs": [],
   "source": [
    "df_selected = df_ex5.iloc[:, 1:3]\n",
    "df_selected = df_selected[df_selected.index.astype(str).str.startswith('v')]\n",
    "markdown_table = df_selected.to_markdown(index=True).replace(\"nan\", \"\")\n",
    "\n",
    "file_md_ex5 = \"proj1_ex05_table.md\"\n",
    "\n",
    "with open(file_md_ex5, \"w\") as file:\n",
    "    file.write(markdown_table)"
   ]
  },
  {
   "cell_type": "markdown",
   "metadata": {},
   "source": [
    "Flattening data:"
   ]
  },
  {
   "cell_type": "code",
   "execution_count": 10,
   "metadata": {},
   "outputs": [],
   "source": [
    "file_pkl_ex6 = \"proj1_ex06_pickle.pkl\"\n",
    "file_json_ex6 = \"Data/proj1_ex06.json\"\n",
    "\n",
    "with open(file_json_ex6, 'r') as file:\n",
    "    json_ex6 = json.load(file)"
   ]
  },
  {
   "cell_type": "code",
   "execution_count": 11,
   "metadata": {},
   "outputs": [],
   "source": [
    "df_ex6 = pd.json_normalize(json_ex6, sep='.')"
   ]
  },
  {
   "cell_type": "code",
   "execution_count": null,
   "metadata": {},
   "outputs": [],
   "source": [
    "df_ex6.to_pickle(file_pkl_ex6)"
   ]
  },
  {
   "cell_type": "code",
   "execution_count": null,
   "metadata": {},
   "outputs": [],
   "source": []
  }
 ],
 "metadata": {
  "kernelspec": {
   "display_name": "venv",
   "language": "python",
   "name": "python3"
  },
  "language_info": {
   "codemirror_mode": {
    "name": "ipython",
    "version": 3
   },
   "file_extension": ".py",
   "mimetype": "text/x-python",
   "name": "python",
   "nbconvert_exporter": "python",
   "pygments_lexer": "ipython3",
   "version": "3.12.8"
  }
 },
 "nbformat": 4,
 "nbformat_minor": 2
}
