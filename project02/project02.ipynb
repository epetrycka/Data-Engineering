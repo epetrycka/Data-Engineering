{
 "cells": [
  {
   "cell_type": "markdown",
   "metadata": {},
   "source": [
    "Uploading data:"
   ]
  },
  {
   "cell_type": "code",
   "execution_count": 2,
   "metadata": {},
   "outputs": [],
   "source": [
    "import pandas as pd\n",
    "\n",
    "separators = ['|', ';', ',']\n",
    "\n",
    "file_csv = \"proj2_data.csv\"\n",
    "with open(file_csv, \"r\") as file:\n",
    "    line = file.readline().strip()\n",
    "\n",
    "    max_count = 0\n",
    "    sep = None\n",
    "    for val in separators:\n",
    "        count = line.count(val)\n",
    "        if count > max_count:\n",
    "            max_count = count\n",
    "            sep = val\n",
    "\n",
    "    dec = None\n",
    "    for _ in range(10):\n",
    "        line = file.readline().strip()\n",
    "        if not line:\n",
    "            break\n",
    "\n",
    "        line_split = line.split(sep)\n",
    "        float_values_dot = []\n",
    "        float_values_comma = []\n",
    "        \n",
    "        for val in line_split:\n",
    "            try:\n",
    "                float_values_dot.append(float(val))\n",
    "            except ValueError:\n",
    "                try:\n",
    "                    val = val.replace(',', '.')\n",
    "                    float_values_comma.append(float(val))\n",
    "\n",
    "                except ValueError:\n",
    "                    pass\n",
    "        if len(float_values_dot) > len(float_values_comma):\n",
    "            dec = '.'\n",
    "            break\n",
    "        elif len(float_values_comma) > len(float_values_dot):\n",
    "            dec = ','\n",
    "            break\n",
    "\n",
    "data = pd.read_csv(file_csv, sep=sep, decimal=dec)\n",
    "\n",
    "import pickle\n",
    "file_pkl_1 = \"proj2_ex01.pkl\"\n",
    "with open(file_pkl_1, \"wb\") as file:\n",
    "    pickle.dump(data, file)"
   ]
  },
  {
   "cell_type": "markdown",
   "metadata": {},
   "source": [
    "Zadanie 2:"
   ]
  },
  {
   "cell_type": "code",
   "execution_count": 3,
   "metadata": {},
   "outputs": [
    {
     "name": "stderr",
     "output_type": "stream",
     "text": [
      "C:\\Users\\User\\AppData\\Local\\Temp\\ipykernel_34824\\2725588257.py:12: FutureWarning: Downcasting behavior in `replace` is deprecated and will be removed in a future version. To retain the old behavior, explicitly call `result.infer_objects(copy=False)`. To opt-in to the future behavior, set `pd.set_option('future.no_silent_downcasting', True)`\n",
      "  data_copy = data_copy.replace(key, value)\n"
     ]
    }
   ],
   "source": [
    "data_copy = data.copy()\n",
    "\n",
    "scale_dict = {}\n",
    "file_scale = \"proj2_scale.txt\"\n",
    "with open(file_scale, \"r\") as file:\n",
    "    i = 1\n",
    "    while line := file.readline():\n",
    "        scale_dict[line.strip()] = i\n",
    "        i += 1\n",
    "\n",
    "for key, value in scale_dict.items():\n",
    "    data_copy = data_copy.replace(key, value)\n",
    "\n",
    "file_2 = \"proj2_ex02.pkl\"\n",
    "with open(file_2, \"wb\") as file:\n",
    "    pickle.dump(data_copy, file)\n"
   ]
  },
  {
   "cell_type": "markdown",
   "metadata": {},
   "source": [
    "Zadanie 3: "
   ]
  },
  {
   "cell_type": "code",
   "execution_count": 4,
   "metadata": {},
   "outputs": [
    {
     "name": "stdout",
     "output_type": "stream",
     "text": [
      "java language\n"
     ]
    }
   ],
   "source": [
    "data_copy_3 = data.copy()\n",
    "categories = scale_dict.keys()\n",
    "\n",
    "for col_name, col_data in data_copy_3.items():\n",
    "    for cat in categories:\n",
    "        if cat in col_data.unique():\n",
    "            print(cat, col_name)\n",
    "            data_copy_3[col_name] = pd.Categorical(data_copy_3[col_name], categories=categories)\n",
    "            break\n",
    "\n",
    "file_3 = \"proj2_ex03.pkl\"\n",
    "with open(file_3, \"wb\") as file:\n",
    "    pickle.dump(data_copy_3, file)\n"
   ]
  },
  {
   "cell_type": "markdown",
   "metadata": {},
   "source": [
    "Zadanie 4:"
   ]
  },
  {
   "cell_type": "code",
   "execution_count": 33,
   "metadata": {},
   "outputs": [
    {
     "name": "stdout",
     "output_type": "stream",
     "text": [
      "    jury_score\n",
      "0          3.5\n",
      "1          5.0\n",
      "2          3.5\n",
      "3          2.0\n",
      "4          2.0\n",
      "5          3.5\n",
      "6         -1.0\n",
      "7          0.0\n",
      "8          NaN\n",
      "9          NaN\n",
      "10         2.0\n",
      "11         4.0\n"
     ]
    }
   ],
   "source": [
    "import re\n",
    "\n",
    "data_4 = pd.DataFrame()\n",
    "regex = r\"\\s*[+-]?\\d+([.,]\\d+)?\\s*\"\n",
    "\n",
    "for col_name, col_data in data.items():\n",
    "    for index, record in col_data.items():\n",
    "        if type(record) == float:\n",
    "            break\n",
    "        if re.match(regex, str(record)):\n",
    "            data_4[col_name] = col_data\n",
    "            break\n",
    "\n",
    "series = {}\n",
    "\n",
    "for col_name, col_data in data_4.items():\n",
    "    for index, record in col_data.items():\n",
    "        num = re.search(regex, record)\n",
    "        if not col_name in series.keys():\n",
    "            series[col_name] = []\n",
    "        if num is None:\n",
    "            series[col_name].append(float(\"nan\"))\n",
    "        else:\n",
    "            series[col_name].append(float(num.group().strip().replace(',','.')))\n",
    "\n",
    "data_frame = pd.DataFrame()\n",
    "\n",
    "for key, value in series.items():\n",
    "    data_frame[key] = pd.Series(value)\n",
    "\n",
    "print(data_frame)\n",
    "\n",
    "file_4 = \"proj2_ex04.pkl\"\n",
    "with open(file_4, \"wb\") as file:\n",
    "    pickle.dump(data_4, file)"
   ]
  },
  {
   "cell_type": "markdown",
   "metadata": {},
   "source": [
    "Zadanie 5:\n",
    "• contain text data,\n",
    "• contain no more than 10 unique values,\n",
    "• only have values consisting of small letters, i.e. the [a-z] range,\n",
    "• have values that do not appear in the text file loaded in Exercise 2"
   ]
  },
  {
   "cell_type": "code",
   "execution_count": 6,
   "metadata": {},
   "outputs": [],
   "source": [
    "regex_2 = r\"^[a-z\\s]+$\"\n",
    "data_5 = pd.DataFrame()\n",
    "\n",
    "for col_name, col_data in data.items():\n",
    "    accept = True\n",
    "    if len(col_data.unique()) >= 10:\n",
    "        accept = False\n",
    "    for index, record in col_data.items():\n",
    "        if type(record) == float:\n",
    "            accept = False\n",
    "            break\n",
    "        elif not re.match(regex_2, record):\n",
    "            accept = False\n",
    "            break\n",
    "        elif record in scale_dict.keys():\n",
    "            accept = False\n",
    "            break\n",
    "    if accept:\n",
    "        data_5[col_name] = col_data\n",
    "\n",
    "i = 1\n",
    "for col_name in data_5.columns:\n",
    "    file_name = f\"proj2_ex05_{i}.pkl\"\n",
    "    one_hot = pd.get_dummies(data_5[col_name])\n",
    "    with open(file_name, \"wb\") as file:\n",
    "        pickle.dump(one_hot, file)\n",
    "    i += 1"
   ]
  }
 ],
 "metadata": {
  "kernelspec": {
   "display_name": "venv",
   "language": "python",
   "name": "python3"
  },
  "language_info": {
   "codemirror_mode": {
    "name": "ipython",
    "version": 3
   },
   "file_extension": ".py",
   "mimetype": "text/x-python",
   "name": "python",
   "nbconvert_exporter": "python",
   "pygments_lexer": "ipython3",
   "version": "3.12.8"
  }
 },
 "nbformat": 4,
 "nbformat_minor": 2
}
