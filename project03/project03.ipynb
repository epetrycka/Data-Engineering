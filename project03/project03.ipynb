{
 "cells": [
  {
   "cell_type": "markdown",
   "metadata": {},
   "source": [
    "Prepering data:"
   ]
  },
  {
   "cell_type": "code",
   "execution_count": 15,
   "metadata": {},
   "outputs": [
    {
     "name": "stdout",
     "output_type": "stream",
     "text": [
      "(18, 8)\n",
      "<class 'pandas.core.frame.DataFrame'>\n"
     ]
    }
   ],
   "source": [
    "import pandas as pd\n",
    "import numpy as np\n",
    "\n",
    "data1 = pd.read_json(\"proj3_data1.json\")\n",
    "data2 = pd.read_json(\"proj3_data2.json\")\n",
    "data3 = pd.read_json(\"proj3_data3.json\")\n",
    "one_big_df = pd.concat([data1, data2, data3], ignore_index=True)\n",
    "print(one_big_df.shape)\n",
    "\n",
    "print(type(one_big_df))\n",
    "\n",
    "with open(\"proj3_ex01_all_data.json\", \"w\") as file:\n",
    "    one_big_df.to_json(file)\n"
   ]
  },
  {
   "cell_type": "markdown",
   "metadata": {},
   "source": [
    "Missing values:"
   ]
  },
  {
   "cell_type": "code",
   "execution_count": 16,
   "metadata": {},
   "outputs": [],
   "source": [
    "missing = one_big_df.isnull().sum()\n",
    "missing = missing[missing > 0]\n",
    "\n",
    "missing.to_csv(\"proj3_ex02_no_nulls.csv\", header=False)"
   ]
  },
  {
   "cell_type": "markdown",
   "metadata": {},
   "source": [
    "Params dictionary:"
   ]
  },
  {
   "cell_type": "code",
   "execution_count": 17,
   "metadata": {},
   "outputs": [],
   "source": [
    "import json\n",
    "\n",
    "with open(\"proj3_params.json\", \"r\") as file:\n",
    "    params = json.load(file)\n",
    "\n",
    "one_big_df[\"description\"] = one_big_df[params[\"concat_columns\"]].astype(str).agg(\" \".join, axis=1)\n",
    "\n",
    "one_big_df.to_json(\"proj3_ex03_descriptions.json\")"
   ]
  },
  {
   "cell_type": "markdown",
   "metadata": {},
   "source": [
    "More data:"
   ]
  },
  {
   "cell_type": "code",
   "execution_count": 18,
   "metadata": {},
   "outputs": [],
   "source": [
    "data4 = pd.read_json(\"proj3_more_data.json\")\n",
    "one_big_df_merged = pd.merge(one_big_df, data4, on=\"engine\", how=\"left\")\n",
    "one_big_df_merged.to_json(\"proj3_ex04_joined.json\")"
   ]
  },
  {
   "cell_type": "markdown",
   "metadata": {},
   "source": [
    "Iterating:"
   ]
  },
  {
   "cell_type": "code",
   "execution_count": 19,
   "metadata": {},
   "outputs": [],
   "source": [
    "for index, row in one_big_df_merged.iterrows():\n",
    "    file_name = f\"proj3_ex05_{row['description'].replace(\" \", \"_\").lower()}.json\"\n",
    "    row = row.drop(\"description\")\n",
    "    row.to_json(file_name)\n",
    "\n",
    "for index, row in one_big_df_merged.iterrows():\n",
    "    file_name = f\"proj3_ex05_int_{row['description'].replace(\" \", \"_\").lower()}.json\"\n",
    "    row = row.drop(\"description\")\n",
    "\n",
    "    for column in params[\"int_columns\"]:\n",
    "        try:\n",
    "            if pd.notnull(row[column]):\n",
    "                row[column] = int(row[column])\n",
    "            else:\n",
    "                row[column] = None\n",
    "        except:\n",
    "            row[column] = None\n",
    "\n",
    "    row.to_json(file_name)"
   ]
  },
  {
   "cell_type": "markdown",
   "metadata": {},
   "source": [
    "Aggregation:"
   ]
  },
  {
   "cell_type": "code",
   "execution_count": 20,
   "metadata": {},
   "outputs": [],
   "source": [
    "agg_dict = {}\n",
    "\n",
    "for column, func in params[\"aggregations\"]:\n",
    "    key = f\"{func}_{column}\"\n",
    "    value = getattr(one_big_df_merged[column], func)()\n",
    "    agg_dict[key] = value\n",
    "\n",
    "with open(\"proj3_ex06_aggregations.json\", \"w\") as file:\n",
    "    json.dump(agg_dict, fp=file)"
   ]
  },
  {
   "cell_type": "markdown",
   "metadata": {},
   "source": [
    "Grouping:"
   ]
  },
  {
   "cell_type": "code",
   "execution_count": 21,
   "metadata": {},
   "outputs": [],
   "source": [
    "grouped = one_big_df_merged.groupby(params[\"grouping_column\"])\n",
    "\n",
    "filtered_groups = grouped.filter(lambda x: len(x) > 1)\n",
    "\n",
    "mean_df = filtered_groups.groupby(params[\"grouping_column\"]).mean(numeric_only=True)\n",
    "\n",
    "mean_df.to_csv(\"proj3_ex07_groups.csv\", index=True, header=True)\n"
   ]
  },
  {
   "cell_type": "markdown",
   "metadata": {},
   "source": [
    "Reshaping data:"
   ]
  },
  {
   "cell_type": "code",
   "execution_count": 22,
   "metadata": {},
   "outputs": [],
   "source": [
    "import pickle\n",
    "\n",
    "pivot_df = one_big_df_merged.pivot_table(\n",
    "    index=params[\"pivot_index\"],\n",
    "    columns=params[\"pivot_columns\"],\n",
    "    values=params[\"pivot_values\"],\n",
    "    aggfunc=\"max\"\n",
    ")\n",
    "\n",
    "with open(\"proj3_ex08_pivot.pkl\", \"wb\") as file:\n",
    "    pickle.dump(pivot_df, file)"
   ]
  },
  {
   "cell_type": "markdown",
   "metadata": {},
   "source": [
    "Widening table:"
   ]
  },
  {
   "cell_type": "code",
   "execution_count": 23,
   "metadata": {},
   "outputs": [],
   "source": [
    "import pandas as pd\n",
    "\n",
    "melted_df = pd.melt(\n",
    "    one_big_df_merged,\n",
    "    id_vars=params[\"id_vars\"],\n",
    "    var_name=\"variable\",\n",
    "    value_name=\"value\"\n",
    ")\n",
    "\n",
    "melted_df.to_csv(\"proj3_ex08_melt.csv\", index=False, header=True)\n"
   ]
  },
  {
   "cell_type": "markdown",
   "metadata": {},
   "source": [
    "Columns with underscore:"
   ]
  },
  {
   "cell_type": "code",
   "execution_count": null,
   "metadata": {},
   "outputs": [
    {
     "data": {
      "text/html": [
       "<div>\n",
       "<style scoped>\n",
       "    .dataframe tbody tr th:only-of-type {\n",
       "        vertical-align: middle;\n",
       "    }\n",
       "\n",
       "    .dataframe tbody tr th {\n",
       "        vertical-align: top;\n",
       "    }\n",
       "\n",
       "    .dataframe thead th {\n",
       "        text-align: right;\n",
       "    }\n",
       "</style>\n",
       "<table border=\"1\" class=\"dataframe\">\n",
       "  <thead>\n",
       "    <tr style=\"text-align: right;\">\n",
       "      <th>brand</th>\n",
       "      <th>Audi</th>\n",
       "      <th>BMW</th>\n",
       "      <th>Renault</th>\n",
       "      <th>Volkswagen</th>\n",
       "    </tr>\n",
       "    <tr>\n",
       "      <th>index</th>\n",
       "      <th></th>\n",
       "      <th></th>\n",
       "      <th></th>\n",
       "      <th></th>\n",
       "    </tr>\n",
       "  </thead>\n",
       "  <tbody>\n",
       "    <tr>\n",
       "      <th>(France, 2019)</th>\n",
       "      <td>20.0</td>\n",
       "      <td>29.0</td>\n",
       "      <td>28.0</td>\n",
       "      <td>36.0</td>\n",
       "    </tr>\n",
       "    <tr>\n",
       "      <th>(France, 2020)</th>\n",
       "      <td>22.0</td>\n",
       "      <td>33.0</td>\n",
       "      <td>26.0</td>\n",
       "      <td>40.0</td>\n",
       "    </tr>\n",
       "    <tr>\n",
       "      <th>(Germany, 2019)</th>\n",
       "      <td>24.0</td>\n",
       "      <td>31.0</td>\n",
       "      <td>17.0</td>\n",
       "      <td>44.0</td>\n",
       "    </tr>\n",
       "    <tr>\n",
       "      <th>(Germany, 2020)</th>\n",
       "      <td>26.0</td>\n",
       "      <td>35.0</td>\n",
       "      <td>15.0</td>\n",
       "      <td>48.0</td>\n",
       "    </tr>\n",
       "    <tr>\n",
       "      <th>(Italy, 2019)</th>\n",
       "      <td>18.0</td>\n",
       "      <td>27.0</td>\n",
       "      <td>31.0</td>\n",
       "      <td>48.0</td>\n",
       "    </tr>\n",
       "    <tr>\n",
       "      <th>(Italy, 2020)</th>\n",
       "      <td>20.0</td>\n",
       "      <td>31.0</td>\n",
       "      <td>29.0</td>\n",
       "      <td>52.0</td>\n",
       "    </tr>\n",
       "    <tr>\n",
       "      <th>(Poland, 2019)</th>\n",
       "      <td>12.0</td>\n",
       "      <td>21.0</td>\n",
       "      <td>22.0</td>\n",
       "      <td>32.0</td>\n",
       "    </tr>\n",
       "    <tr>\n",
       "      <th>(Poland, 2020)</th>\n",
       "      <td>14.0</td>\n",
       "      <td>25.0</td>\n",
       "      <td>20.0</td>\n",
       "      <td>36.0</td>\n",
       "    </tr>\n",
       "    <tr>\n",
       "      <th>(Spain, 2019)</th>\n",
       "      <td>16.0</td>\n",
       "      <td>25.0</td>\n",
       "      <td>19.0</td>\n",
       "      <td>40.0</td>\n",
       "    </tr>\n",
       "    <tr>\n",
       "      <th>(Spain, 2020)</th>\n",
       "      <td>18.0</td>\n",
       "      <td>29.0</td>\n",
       "      <td>17.0</td>\n",
       "      <td>44.0</td>\n",
       "    </tr>\n",
       "  </tbody>\n",
       "</table>\n",
       "</div>"
      ],
      "text/plain": [
       "brand            Audi   BMW  Renault  Volkswagen\n",
       "index                                           \n",
       "(France, 2019)   20.0  29.0     28.0        36.0\n",
       "(France, 2020)   22.0  33.0     26.0        40.0\n",
       "(Germany, 2019)  24.0  31.0     17.0        44.0\n",
       "(Germany, 2020)  26.0  35.0     15.0        48.0\n",
       "(Italy, 2019)    18.0  27.0     31.0        48.0\n",
       "(Italy, 2020)    20.0  31.0     29.0        52.0\n",
       "(Poland, 2019)   12.0  21.0     22.0        32.0\n",
       "(Poland, 2020)   14.0  25.0     20.0        36.0\n",
       "(Spain, 2019)    16.0  25.0     19.0        40.0\n",
       "(Spain, 2020)    18.0  29.0     17.0        44.0"
      ]
     },
     "execution_count": 62,
     "metadata": {},
     "output_type": "execute_result"
    }
   ],
   "source": [
    "import pandas as pd\n",
    "import json\n",
    "\n",
    "df = pd.read_csv(\"proj3_statistics.csv\")\n",
    "\n",
    "with open(\"proj3_params.json\") as f:\n",
    "    params = json.load(f)\n",
    "\n",
    "pivot_index = params[\"pivot_index\"]\n",
    "id_col = df.columns[0]\n",
    "\n",
    "df = df.melt(id_vars=df.columns[0])\n",
    "df[[\"brand\", \"year\"]] = df[\"variable\"].str.split(\"_\", expand=True)\n",
    "df = df.drop(labels=\"variable\", axis=1)\n",
    "df[\"index\"] = list(zip(df[\"Country\"], df[\"year\"]))\n",
    "df = df.pivot_table(values=\"value\", index=\"index\", columns=\"brand\")\n",
    "\n",
    "df.to_pickle(\"proj3_ex08_stats.pkl\")"
   ]
  },
  {
   "cell_type": "code",
   "execution_count": null,
   "metadata": {},
   "outputs": [
    {
     "data": {
      "text/html": [
       "<div>\n",
       "<style scoped>\n",
       "    .dataframe tbody tr th:only-of-type {\n",
       "        vertical-align: middle;\n",
       "    }\n",
       "\n",
       "    .dataframe tbody tr th {\n",
       "        vertical-align: top;\n",
       "    }\n",
       "\n",
       "    .dataframe thead th {\n",
       "        text-align: right;\n",
       "    }\n",
       "</style>\n",
       "<table border=\"1\" class=\"dataframe\">\n",
       "  <thead>\n",
       "    <tr style=\"text-align: right;\">\n",
       "      <th></th>\n",
       "      <th></th>\n",
       "      <th>Audi</th>\n",
       "      <th>BMW</th>\n",
       "      <th>Volkswagen</th>\n",
       "      <th>Renault</th>\n",
       "    </tr>\n",
       "  </thead>\n",
       "  <tbody>\n",
       "    <tr>\n",
       "      <th rowspan=\"2\" valign=\"top\">Poland</th>\n",
       "      <th>2019</th>\n",
       "      <td>12.0</td>\n",
       "      <td>21.0</td>\n",
       "      <td>32.0</td>\n",
       "      <td>22.0</td>\n",
       "    </tr>\n",
       "    <tr>\n",
       "      <th>2020</th>\n",
       "      <td>14.0</td>\n",
       "      <td>25.0</td>\n",
       "      <td>36.0</td>\n",
       "      <td>20.0</td>\n",
       "    </tr>\n",
       "    <tr>\n",
       "      <th rowspan=\"2\" valign=\"top\">Germany</th>\n",
       "      <th>2019</th>\n",
       "      <td>24.0</td>\n",
       "      <td>31.0</td>\n",
       "      <td>44.0</td>\n",
       "      <td>17.0</td>\n",
       "    </tr>\n",
       "    <tr>\n",
       "      <th>2020</th>\n",
       "      <td>26.0</td>\n",
       "      <td>35.0</td>\n",
       "      <td>48.0</td>\n",
       "      <td>15.0</td>\n",
       "    </tr>\n",
       "    <tr>\n",
       "      <th rowspan=\"2\" valign=\"top\">France</th>\n",
       "      <th>2019</th>\n",
       "      <td>20.0</td>\n",
       "      <td>29.0</td>\n",
       "      <td>36.0</td>\n",
       "      <td>28.0</td>\n",
       "    </tr>\n",
       "    <tr>\n",
       "      <th>2020</th>\n",
       "      <td>22.0</td>\n",
       "      <td>33.0</td>\n",
       "      <td>40.0</td>\n",
       "      <td>26.0</td>\n",
       "    </tr>\n",
       "    <tr>\n",
       "      <th rowspan=\"2\" valign=\"top\">Spain</th>\n",
       "      <th>2019</th>\n",
       "      <td>16.0</td>\n",
       "      <td>25.0</td>\n",
       "      <td>40.0</td>\n",
       "      <td>19.0</td>\n",
       "    </tr>\n",
       "    <tr>\n",
       "      <th>2020</th>\n",
       "      <td>18.0</td>\n",
       "      <td>29.0</td>\n",
       "      <td>44.0</td>\n",
       "      <td>17.0</td>\n",
       "    </tr>\n",
       "    <tr>\n",
       "      <th rowspan=\"2\" valign=\"top\">Italy</th>\n",
       "      <th>2019</th>\n",
       "      <td>18.0</td>\n",
       "      <td>27.0</td>\n",
       "      <td>48.0</td>\n",
       "      <td>31.0</td>\n",
       "    </tr>\n",
       "    <tr>\n",
       "      <th>2020</th>\n",
       "      <td>20.0</td>\n",
       "      <td>31.0</td>\n",
       "      <td>52.0</td>\n",
       "      <td>29.0</td>\n",
       "    </tr>\n",
       "  </tbody>\n",
       "</table>\n",
       "</div>"
      ],
      "text/plain": [
       "              Audi   BMW  Volkswagen  Renault\n",
       "Poland  2019  12.0  21.0        32.0     22.0\n",
       "        2020  14.0  25.0        36.0     20.0\n",
       "Germany 2019  24.0  31.0        44.0     17.0\n",
       "        2020  26.0  35.0        48.0     15.0\n",
       "France  2019  20.0  29.0        36.0     28.0\n",
       "        2020  22.0  33.0        40.0     26.0\n",
       "Spain   2019  16.0  25.0        40.0     19.0\n",
       "        2020  18.0  29.0        44.0     17.0\n",
       "Italy   2019  18.0  27.0        48.0     31.0\n",
       "        2020  20.0  31.0        52.0     29.0"
      ]
     },
     "execution_count": 32,
     "metadata": {},
     "output_type": "execute_result"
    }
   ],
   "source": [
    "import pandas as pd\n",
    "import json\n",
    "\n",
    "df = pd.read_csv(\"proj3_statistics.csv\")\n",
    "\n",
    "with open(\"proj3_params.json\") as f:\n",
    "    params = json.load(f)\n",
    "\n",
    "pivot_index = params[\"pivot_index\"]\n",
    "id_col = df.columns[0]\n",
    "\n",
    "df_melted = df.melt(id_vars=[id_col], var_name=\"variable\", value_name=\"value\")\n",
    "df_melted[[\"brand\", \"year\"]] = df_melted[\"variable\"].str.split(\"_\", expand=True)\n",
    "df_melted\n",
    "df_melted[\"year\"] = df_melted[\"year\"].astype(int)\n",
    "df_melted\n",
    "\n",
    "desired_order = [\"Poland\", \"Germany\", \"France\", \"Spain\", \"Italy\"]\n",
    "\n",
    "df_pivot = df_melted.pivot_table(index=[id_col, \"year\"], columns=\"brand\", values=\"value\")\n",
    "\n",
    "df_pivot = df_pivot.reset_index()\n",
    "\n",
    "df_pivot[id_col] = pd.Categorical(df_pivot[id_col], categories=desired_order, ordered=True)\n",
    "\n",
    "df_pivot = df_pivot.sort_values(by=[id_col, \"year\"])\n",
    "\n",
    "df_pivot = df_pivot.set_index([id_col, \"year\"])\n",
    "\n",
    "df_pivot = df_pivot[[\"Audi\", \"BMW\", \"Volkswagen\", \"Renault\"]]\n",
    "\n",
    "df_pivot.index.names = [None, None]\n",
    "df_pivot.columns.name = None\n"
   ]
  }
 ],
 "metadata": {
  "kernelspec": {
   "display_name": "venv",
   "language": "python",
   "name": "python3"
  },
  "language_info": {
   "codemirror_mode": {
    "name": "ipython",
    "version": 3
   },
   "file_extension": ".py",
   "mimetype": "text/x-python",
   "name": "python",
   "nbconvert_exporter": "python",
   "pygments_lexer": "ipython3",
   "version": "3.12.8"
  }
 },
 "nbformat": 4,
 "nbformat_minor": 2
}
