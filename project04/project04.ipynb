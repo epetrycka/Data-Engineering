{
 "cells": [
  {
   "cell_type": "markdown",
   "id": "cdf4ccf3",
   "metadata": {},
   "source": [
    "Loding data"
   ]
  },
  {
   "cell_type": "code",
   "execution_count": 82,
   "id": "e321db2a",
   "metadata": {},
   "outputs": [],
   "source": [
    "import json\n",
    "\n",
    "params = {}\n",
    "with open(\"proj4_params.json\", \"r\", encoding=\"utf-8\") as file:\n",
    "    params = json.load(file)"
   ]
  },
  {
   "cell_type": "code",
   "execution_count": 83,
   "id": "40365226",
   "metadata": {},
   "outputs": [
    {
     "name": "stdout",
     "output_type": "stream",
     "text": [
      "      lamp_id circuit         label                         geometry\n",
      "0        5907    4260    4260 III/9  POINT (2215161.628 6459108.749)\n",
      "1        5908    4104      4104 I/7   POINT (2214299.747 6459283.83)\n",
      "2        5909    4070      4070 I/8  POINT (2215058.617 6458937.362)\n",
      "3        5910    4148     4148 I/14   POINT (2214001.935 6459017.98)\n",
      "4        5911    4148      4148 I/4   POINT (2214331.397 6458976.29)\n",
      "...       ...     ...           ...                              ...\n",
      "3737     9644    1025  1025 VIII/21  POINT (2219072.963 6459005.128)\n",
      "3738     9645    1145     1145 I/11  POINT (2219170.783 6458492.182)\n",
      "3739     9646    1145     1145 I/12  POINT (2219192.738 6458462.898)\n",
      "3740     9647    1145     1145 I/13  POINT (2219214.247 6458434.278)\n",
      "3741     9648    1146     1146 IV/1  POINT (2219070.984 6457949.465)\n",
      "\n",
      "[3742 rows x 4 columns]\n"
     ]
    }
   ],
   "source": [
    "try:\n",
    "    import geopandas\n",
    "except Exception:\n",
    "    import subprocess\n",
    "    import sys\n",
    "    subprocess.check_call([sys.executable, \"-m\", \"pip\", \"install\", \"geopandas\"])\n",
    "\n",
    "gdf = geopandas.read_file(\"proj4_points.geojson\")\n",
    "print(gdf)"
   ]
  },
  {
   "cell_type": "code",
   "execution_count": 84,
   "id": "f71bde15",
   "metadata": {},
   "outputs": [
    {
     "name": "stdout",
     "output_type": "stream",
     "text": [
      "      lamp_id_left circuit_left  label_left  \\\n",
      "0             5907         4260  4260 III/9   \n",
      "0             5907         4260  4260 III/9   \n",
      "0             5907         4260  4260 III/9   \n",
      "0             5907         4260  4260 III/9   \n",
      "0             5907         4260  4260 III/9   \n",
      "...            ...          ...         ...   \n",
      "3741          9648         1146   1146 IV/1   \n",
      "3741          9648         1146   1146 IV/1   \n",
      "3741          9648         1146   1146 IV/1   \n",
      "3741          9648         1146   1146 IV/1   \n",
      "3741          9648         1146   1146 IV/1   \n",
      "\n",
      "                                               geometry  index_right  \\\n",
      "0     POLYGON ((564419.617 245585.559, 564419.135 24...          685   \n",
      "0     POLYGON ((564419.617 245585.559, 564419.135 24...          684   \n",
      "0     POLYGON ((564419.617 245585.559, 564419.135 24...          683   \n",
      "0     POLYGON ((564419.617 245585.559, 564419.135 24...          686   \n",
      "0     POLYGON ((564419.617 245585.559, 564419.135 24...          687   \n",
      "...                                                 ...          ...   \n",
      "3741  POLYGON ((566941.058 244873.441, 566940.577 24...         3672   \n",
      "3741  POLYGON ((566941.058 244873.441, 566940.577 24...         3673   \n",
      "3741  POLYGON ((566941.058 244873.441, 566940.577 24...         2795   \n",
      "3741  POLYGON ((566941.058 244873.441, 566940.577 24...         2794   \n",
      "3741  POLYGON ((566941.058 244873.441, 566940.577 24...         2781   \n",
      "\n",
      "      lamp_id_right circuit_right label_right  \n",
      "0              6592          4065  4065 II/15  \n",
      "0              6591          4065  4065 II/14  \n",
      "0              6590          4065  4065 II/13  \n",
      "0              6593          4065  4065 II/12  \n",
      "0              6594          4065  4065 II/11  \n",
      "...             ...           ...         ...  \n",
      "3741           9579          1146   1146 IV/3  \n",
      "3741           9580          1146   1146 IV/4  \n",
      "3741           8701          1146   1146 VI/2  \n",
      "3741           8700          1146   1146 VI/3  \n",
      "3741           8687          1146   1146 VI/4  \n",
      "\n",
      "[78724 rows x 8 columns]\n"
     ]
    }
   ],
   "source": [
    "gdf_buffor = gdf.copy()\n",
    "gdf_copy = gdf.copy()\n",
    "gdf_copy = gdf_copy.to_crs(epsg=2180)\n",
    "gdf_buffor = gdf_buffor.to_crs(epsg=2180)\n",
    "gdf_buffor[\"geometry\"] = gdf_buffor[\"geometry\"].buffer(100)\n",
    "\n",
    "joined = geopandas.sjoin(gdf_buffor, gdf_copy, how=\"left\", predicate=\"intersects\")\n",
    "print(joined)"
   ]
  },
  {
   "cell_type": "code",
   "execution_count": 85,
   "id": "ea9e7692",
   "metadata": {},
   "outputs": [
    {
     "name": "stdout",
     "output_type": "stream",
     "text": [
      "      lamp_id  count\n",
      "0        5907     16\n",
      "1        5908     16\n",
      "2        5909     17\n",
      "3        5910     20\n",
      "4        5911      9\n",
      "...       ...    ...\n",
      "3737     9644     16\n",
      "3738     9645     16\n",
      "3739     9646     15\n",
      "3740     9647     12\n",
      "3741     9648     19\n",
      "\n",
      "[3742 rows x 2 columns]\n"
     ]
    }
   ],
   "source": [
    "id_col = params[\"id_column\"]\n",
    "count_series = joined.groupby(id_col + \"_left\").size()\n",
    "result = count_series.reset_index()\n",
    "result.columns = [id_col, \"count\"]\n",
    "print(result)\n",
    "result.to_csv(\"proj4_ex01_counts.csv\", index=False)"
   ]
  },
  {
   "cell_type": "code",
   "execution_count": 86,
   "id": "4b344ae4",
   "metadata": {},
   "outputs": [
    {
     "name": "stdout",
     "output_type": "stream",
     "text": [
      "   lamp_id        lat        lon\n",
      "0     5907  50.074043  19.899135\n",
      "1     5908  50.075053  19.891393\n",
      "2     5909  50.073055  19.898210\n",
      "3     5910  50.073520  19.888718\n",
      "4     5911  50.073280  19.891677\n"
     ]
    }
   ],
   "source": [
    "gdf_latlon = gdf.copy()\n",
    "if gdf_latlon.crs != \"EPSG:4326\":\n",
    "    gdf_latlon = gdf_latlon.to_crs(epsg=4326)\n",
    "\n",
    "gdf_latlon['lat'] = gdf_latlon.geometry.y\n",
    "gdf_latlon['lon'] = gdf_latlon.geometry.x\n",
    "\n",
    "id_col = params[\"id_column\"]\n",
    "gdf_latlon[[id_col, 'lat', 'lon']].round({'lat': 7, 'lon': 7}).to_csv(\"proj4_ex01_coords.csv\", index=False)\n",
    "\n",
    "print(gdf_latlon[[id_col, 'lat', 'lon']].head())"
   ]
  },
  {
   "cell_type": "code",
   "execution_count": 98,
   "id": "012a1527",
   "metadata": {},
   "outputs": [],
   "source": [
    "city_name = params[\"city\"]\n",
    "\n",
    "try:\n",
    "    import osmnx as ox\n",
    "except Exception:\n",
    "    import sys\n",
    "    import subprocess\n",
    "    subprocess.check_call([sys.executable, \"-m\", \"pip\", \"install\", \"osmnx\"])\n",
    "    import osmnx as ox\n",
    "\n",
    "gdf_roads = ox.features.features_from_place(query=city_name, tags={\"highway\": [\"tertiary\"]})"
   ]
  },
  {
   "cell_type": "code",
   "execution_count": null,
   "id": "dd6d6165",
   "metadata": {},
   "outputs": [],
   "source": [
    "gdf_roads = gdf_roads.reset_index()\n",
    "\n",
    "gdf_roads[\"osm_id\"] = gdf_roads[\"id\"]\n",
    "\n",
    "columns_to_keep = [\"osm_id\", \"name\", \"geometry\"]\n",
    "\n",
    "gdf_roads = gdf_roads[columns_to_keep].dropna(subset=[\"geometry\"])\n",
    "\n",
    "gdf_roads.to_file(\"proj4_ex02_roads.geojson\", driver=\"GeoJSON\")\n"
   ]
  },
  {
   "cell_type": "code",
   "execution_count": 131,
   "id": "83f5ee90",
   "metadata": {},
   "outputs": [
    {
     "name": "stdout",
     "output_type": "stream",
     "text": [
      "                                name  point_count\n",
      "0                       Aleja 3 Maja          131\n",
      "1                     Aleja Kijowska          128\n",
      "2   Aleja Marszałka Ferdinanda Focha           33\n",
      "3                            Balicka           79\n",
      "4               Bartosza Głowackiego           23\n",
      "5                         Bronowicka          148\n",
      "6                      Czarnowiejska           14\n",
      "7                     Dolnych Młynów           12\n",
      "8                  Józefa Szujskiego            5\n",
      "9                         Karmelicka           64\n",
      "10              Kazimierza Wielkiego           66\n",
      "11                         Krupnicza           23\n",
      "12                         Królewska          121\n",
      "13                  Królowej Jadwigi            4\n",
      "14                    Księcia Józefa            8\n",
      "15                     Lucjana Rydla           34\n",
      "16     Marszałka Józefa Piłsudskiego           16\n",
      "17                         Na Błonie            3\n",
      "18                        Piastowska           61\n",
      "19                    Plac Inwalidów           47\n",
      "20          Plac Teodora Axentowicza           19\n",
      "21                      Podchorążych           27\n",
      "22                         Prądnicka           15\n",
      "23                            Rajska           19\n",
      "24               Tadeusza Kościuszki          103\n",
      "25                        Wrocławska           55\n",
      "26               Władysława Łokietka           37\n",
      "27                          Zarzecze            4\n",
      "28                     Zwierzyniecka           12\n",
      "29                         Łobzowska           36\n"
     ]
    }
   ],
   "source": [
    "gdf_copy = gdf.copy().to_crs(epsg=2180)\n",
    "gdf_roads_copy = gdf_roads.copy().to_crs(epsg=2180)\n",
    "\n",
    "gdf_roads_copy[\"geometry\"] = gdf_roads_copy.buffer(50, cap_style=2)\n",
    "\n",
    "joined = geopandas.sjoin(gdf_copy, gdf_roads_copy, how=\"inner\", predicate=\"within\")\n",
    "\n",
    "result = joined.groupby(\"name\").size().reset_index(name=\"point_count\")\n",
    "\n",
    "result = result[result[\"point_count\"] > 0]\n",
    "\n",
    "result.to_csv(\"proj4_ex03_streets_points.csv\", index=False)\n",
    "\n",
    "print(result)"
   ]
  },
  {
   "cell_type": "code",
   "execution_count": 136,
   "id": "777607aa",
   "metadata": {},
   "outputs": [],
   "source": [
    "gdf_countries = geopandas.read_file(\"proj4_countries.geojson\")\n",
    "\n",
    "import matplotlib.pyplot as plt\n",
    "\n",
    "gdf_countries['geometry'] = gdf_countries['geometry'].boundary\n",
    "\n",
    "gdf_countries = gdf_countries.to_crs(epsg=3857)\n",
    "\n",
    "gdf_countries.to_pickle(\"proj4_ex04_gdf.pkl\")\n",
    "\n",
    "def plot_country_boundary(country_name, country_gdf_countries):\n",
    "    fig, ax = plt.subplots(figsize=(10, 10))\n",
    "    \n",
    "    country_gdf_countries.plot(ax=ax, edgecolor='black', facecolor='none')\n",
    "    \n",
    "    ax.set_title(f\"Boundary of {country_name.capitalize()}\")\n",
    "    ax.set_axis_off()\n",
    "    \n",
    "    output_file =f\"proj4_ex04_{country_name.lower()}.png\"\n",
    "    plt.savefig(output_file, format=\"png\", bbox_inches=\"tight\", dpi=300)\n",
    "    plt.close()\n",
    "\n",
    "for idx, row in gdf_countries.iterrows():\n",
    "    country_name = row['name']\n",
    "    country_gdf_countries = gdf_countries[gdf_countries['name'] == country_name]\n",
    "    \n",
    "    plot_country_boundary(country_name, country_gdf_countries)"
   ]
  }
 ],
 "metadata": {
  "kernelspec": {
   "display_name": "Python 3",
   "language": "python",
   "name": "python3"
  },
  "language_info": {
   "codemirror_mode": {
    "name": "ipython",
    "version": 3
   },
   "file_extension": ".py",
   "mimetype": "text/x-python",
   "name": "python",
   "nbconvert_exporter": "python",
   "pygments_lexer": "ipython3",
   "version": "3.12.8"
  }
 },
 "nbformat": 4,
 "nbformat_minor": 5
}
