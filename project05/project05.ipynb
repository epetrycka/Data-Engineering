{
 "cells": [
  {
   "cell_type": "markdown",
   "id": "d46949d6",
   "metadata": {},
   "source": [
    "Loading data:"
   ]
  },
  {
   "cell_type": "code",
   "execution_count": 2,
   "id": "9f0694e1",
   "metadata": {},
   "outputs": [],
   "source": [
    "import numpy as np\n",
    "import pandas as pd\n",
    "import json\n",
    "\n",
    "with open(\"proj5_params.json\", \"r\") as file:\n",
    "    params = json.loads(file.read())\n",
    "\n",
    "timeseries = pd.read_csv(\"proj5_timeseries.csv\")"
   ]
  },
  {
   "cell_type": "code",
   "execution_count": 3,
   "id": "34f6b05c",
   "metadata": {},
   "outputs": [],
   "source": [
    "import re\n",
    "\n",
    "for name in timeseries.columns:\n",
    "    new_columnname = re.sub(r\"[^0-9a-zA-Z]\", \"_\", name)\n",
    "    new_columnname = new_columnname.lower()\n",
    "    timeseries.rename(columns={name : new_columnname}, inplace=True)\n",
    "\n",
    "first_col = timeseries.columns[0]\n",
    "timeseries[first_col] = pd.to_datetime(timeseries[first_col], format=\"mixed\")\n",
    "timeseries.set_index(first_col, inplace=True)\n",
    "timeseries = timeseries.asfreq(params[\"original_frequency\"]) "
   ]
  },
  {
   "cell_type": "code",
   "execution_count": 4,
   "id": "e5cf685c",
   "metadata": {},
   "outputs": [],
   "source": [
    "import pickle\n",
    "\n",
    "with open(\"proj5_ex01.pkl\", \"wb\") as file:\n",
    "    pickle.dump(timeseries, file)"
   ]
  },
  {
   "cell_type": "code",
   "execution_count": 5,
   "id": "8456f59e",
   "metadata": {},
   "outputs": [],
   "source": [
    "timeseries_2 = timeseries.asfreq(params[\"target_frequency\"]) \n",
    "\n",
    "with open(\"proj5_ex02.pkl\", \"wb\") as file:\n",
    "    pickle.dump(timeseries_2, file)"
   ]
  },
  {
   "cell_type": "code",
   "execution_count": 6,
   "id": "c6f6f542",
   "metadata": {},
   "outputs": [],
   "source": [
    "downsample_periods = params[\"downsample_periods\"]\n",
    "downsample_units = params[\"downsample_units\"]\n",
    "period_str = f\"{downsample_periods}{downsample_units}\"\n",
    "\n",
    "count_per_window = timeseries.resample(period_str).count()\n",
    "expected_count = downsample_periods\n",
    "\n",
    "downsampled = timeseries.resample(period_str).sum()\n",
    "\n",
    "downsampled[count_per_window < expected_count] = float('nan')\n",
    "\n",
    "downsampled.to_pickle(\"proj5_ex03.pkl\")"
   ]
  },
  {
   "cell_type": "code",
   "execution_count": 7,
   "id": "33ae9378",
   "metadata": {},
   "outputs": [],
   "source": [
    "try:\n",
    "    import scipy\n",
    "except Exception:\n",
    "    import subprocess\n",
    "    import sys\n",
    "    subprocess.check_call([sys.executable, \"-m\", \"pip\", \"install\", \"scipy\"])\n",
    "    import scipy"
   ]
  },
  {
   "cell_type": "code",
   "execution_count": 8,
   "id": "29753d50",
   "metadata": {},
   "outputs": [],
   "source": [
    "rule = f'{params[\"upsample_periods\"]}{params[\"upsample_units\"]}'\n",
    "\n",
    "upsampled = timeseries.resample(rule).asfreq()\n",
    "\n",
    "upsampled_interpolated = upsampled.interpolate(\n",
    "    method=params[\"interpolation\"],\n",
    "    order=params[\"interpolation_order\"] if params[\"interpolation\"] == \"polynomial\" else None\n",
    ")\n",
    "\n",
    "original_td = pd.Timedelta(1, unit=params[\"original_frequency\"])\n",
    "new_td = pd.Timedelta(params[\"upsample_periods\"], unit=params[\"upsample_units\"])\n",
    "scaling_factor = new_td / original_td\n",
    "\n",
    "numeric_cols = upsampled_interpolated.select_dtypes(include='number').columns\n",
    "upsampled_interpolated[numeric_cols] *= scaling_factor\n",
    "\n",
    "upsampled_interpolated.to_pickle(\"proj5_ex04.pkl\")"
   ]
  },
  {
   "cell_type": "code",
   "execution_count": 53,
   "id": "6e296115",
   "metadata": {},
   "outputs": [],
   "source": [
    "sensor = f\"{params['sensors_periods']}{params['sensors_units']}\"\n",
    "\n",
    "wide_df = pd.read_pickle('proj5_sensors.pkl')\n",
    "\n",
    "wide_df = wide_df.pivot(columns='device_id', values='value')\n",
    "\n",
    "freq = pd.date_range(wide_df.index.round(sensor).min(), wide_df.index.round(sensor).max(), freq=sensor)\n",
    "\n",
    "wide_df = wide_df.reindex(freq.union(wide_df.index)).interpolate(method='linear')\n",
    "\n",
    "wide_df = wide_df.reindex(freq)\n",
    "\n",
    "wide_df = wide_df.dropna()\n",
    "\n",
    "wide_df.to_pickle(\"proj5_ex05.pkl\")"
   ]
  }
 ],
 "metadata": {
  "kernelspec": {
   "display_name": "venv",
   "language": "python",
   "name": "python3"
  },
  "language_info": {
   "codemirror_mode": {
    "name": "ipython",
    "version": 3
   },
   "file_extension": ".py",
   "mimetype": "text/x-python",
   "name": "python",
   "nbconvert_exporter": "python",
   "pygments_lexer": "ipython3",
   "version": "3.12.8"
  }
 },
 "nbformat": 4,
 "nbformat_minor": 5
}
