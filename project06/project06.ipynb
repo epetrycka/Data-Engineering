{
 "cells": [
  {
   "cell_type": "code",
   "execution_count": null,
   "id": "bf1d90a1",
   "metadata": {},
   "outputs": [],
   "source": [
    "import pandas as pd\n",
    "import sqlite3\n",
    "import bz2\n",
    "\n",
    "# url = \"http://awing.kis.agh.edu.pl:8080/detectors_names_traffic_s_small.csv.bz2\"\n",
    "# file_name = \"detectors.csv.bz2\"\n",
    "\n",
    "# import urllib.request\n",
    "# urllib.request.urlretrieve(url, file_name)\n",
    "\n",
    "# with bz2.open(file_name, \"rt\") as f:\n",
    "#     df = pd.read_csv(f)"
   ]
  },
  {
   "cell_type": "code",
   "execution_count": null,
   "id": "3399f047",
   "metadata": {},
   "outputs": [],
   "source": [
    "conn = sqlite3.connect(\"proj6_readings.sqlite\")\n",
    "# df.to_sql(\"readings\", conn, if_exists=\"replace\", index=False)"
   ]
  },
  {
   "cell_type": "code",
   "execution_count": null,
   "id": "47b874ab",
   "metadata": {},
   "outputs": [],
   "source": [
    "# cur = conn.cursor()\n",
    "\n",
    "# cur.execute(\"\"\"CREATE INDEX detector_id ON readings (detector_id);\"\"\")\n",
    "# cur.execute(\"\"\"CREATE INDEX starttime ON readings (starttime);\"\"\")\n",
    "# conn.commit()"
   ]
  },
  {
   "cell_type": "code",
   "execution_count": null,
   "id": "37278385",
   "metadata": {},
   "outputs": [],
   "source": [
    "# import pandas as pd\n",
    "# import sqlite3\n",
    "# import bz2\n",
    "\n",
    "# conn = sqlite3.connect(\"proj6_readings.sqlite\")\n"
   ]
  },
  {
   "cell_type": "code",
   "execution_count": 9,
   "id": "bde2f5c5",
   "metadata": {},
   "outputs": [
    {
     "name": "stdout",
     "output_type": "stream",
     "text": [
      "(1, 1)\n",
      "   count(*)\n",
      "0       146\n"
     ]
    }
   ],
   "source": [
    "ex1 = pd.read_sql(\"SELECT count(DISTINCT detector_id) AS 'count(*)' FROM readings\", conn)\n",
    "print(ex1.shape)\n",
    "ex1.to_pickle(\"proj6_ex01_detector_no.pkl\")\n",
    "print(ex1)"
   ]
  },
  {
   "cell_type": "code",
   "execution_count": 10,
   "id": "ef648f95",
   "metadata": {},
   "outputs": [
    {
     "name": "stdout",
     "output_type": "stream",
     "text": [
      "     detector_id  count(count)       min(starttime)       max(starttime)\n",
      "0              1        357214  2015-06-22 23:58:31  2016-07-12 23:57:01\n",
      "1              2        357201  2015-06-22 23:58:31  2016-07-12 23:57:01\n",
      "2              3        356755  2015-06-22 23:58:31  2016-07-12 23:57:01\n",
      "3              4        357213  2015-06-22 23:58:31  2016-07-12 23:57:01\n",
      "4              5        357204  2015-06-22 23:58:31  2016-07-12 23:57:01\n",
      "..           ...           ...                  ...                  ...\n",
      "141          142        352730  2015-06-22 23:58:31  2016-07-12 23:57:01\n",
      "142          143        352729  2015-06-22 23:58:31  2016-07-12 23:57:01\n",
      "143          144        352730  2015-06-22 23:58:31  2016-07-12 23:57:01\n",
      "144          145        352730  2015-06-22 23:58:31  2016-07-12 23:57:01\n",
      "145          146        147666  2015-06-22 23:58:31  2015-12-01 04:21:01\n",
      "\n",
      "[146 rows x 4 columns]\n"
     ]
    }
   ],
   "source": [
    "ex2 = pd.read_sql(\"SELECT detector_id, count(detector_id) AS 'count(count)', min(starttime), max(starttime) FROM readings GROUP BY detector_id\", conn)\n",
    "ex2.to_pickle(\"proj6_ex02_detector_stat.pkl\")\n",
    "print(ex2)"
   ]
  },
  {
   "cell_type": "code",
   "execution_count": 11,
   "id": "ef713dda",
   "metadata": {},
   "outputs": [
    {
     "name": "stdout",
     "output_type": "stream",
     "text": [
      "     detector_id  count  prev_count\n",
      "0            146      1         NaN\n",
      "1            146      0         1.0\n",
      "2            146      0         0.0\n",
      "3            146      0         0.0\n",
      "4            146      0         0.0\n",
      "..           ...    ...         ...\n",
      "495          146      0         0.0\n",
      "496          146      2         0.0\n",
      "497          146      2         2.0\n",
      "498          146      2         2.0\n",
      "499          146      2         2.0\n",
      "\n",
      "[500 rows x 3 columns]\n"
     ]
    }
   ],
   "source": [
    "ex3 = pd.read_sql(\"\"\"\n",
    "                    SELECT \n",
    "                        detector_id,\n",
    "                        count,\n",
    "                        LAG(count) OVER (PARTITION BY detector_id ORDER BY starttime) AS prev_count\n",
    "                    FROM readings\n",
    "                    WHERE detector_id = 146\n",
    "                    ORDER BY starttime\n",
    "                    LIMIT 500;\n",
    "                  \"\"\", conn)\n",
    "ex3.to_pickle(\"proj6_ex03_detector_146_lag.pkl\")\n",
    "print(ex3)"
   ]
  },
  {
   "cell_type": "code",
   "execution_count": null,
   "id": "1ec09356",
   "metadata": {},
   "outputs": [
    {
     "name": "stdout",
     "output_type": "stream",
     "text": [
      "     detector_id  count  window_sum            starttime              endtime\n",
      "0            146      1           2  2015-06-22 23:58:31  2015-06-23 00:00:01\n",
      "1            146      0           2  2015-06-23 00:00:01  2015-06-23 00:01:31\n",
      "2            146      0           2  2015-06-23 00:01:31  2015-06-23 00:03:01\n",
      "3            146      0           2  2015-06-23 00:03:01  2015-06-23 00:04:31\n",
      "4            146      0           2  2015-06-23 00:04:31  2015-06-23 00:06:01\n",
      "..           ...    ...         ...                  ...                  ...\n",
      "495          146      0          20  2015-06-23 12:21:01  2015-06-23 12:22:31\n",
      "496          146      2          22  2015-06-23 12:22:31  2015-06-23 12:24:01\n",
      "497          146      2          21  2015-06-23 12:24:01  2015-06-23 12:25:31\n",
      "498          146      2          21  2015-06-23 12:25:31  2015-06-23 12:27:01\n",
      "499          146      2          21  2015-06-23 12:27:01  2015-06-23 12:28:31\n",
      "\n",
      "[500 rows x 5 columns]\n"
     ]
    }
   ],
   "source": [
    "ex4 = pd.read_sql(\"\"\"\n",
    "                    SELECT \n",
    "                        detector_id,\n",
    "                        count,\n",
    "                        SUM(count) OVER (\n",
    "                            PARTITION BY detector_id \n",
    "                            ORDER BY starttime \n",
    "                            ROWS BETWEEN CURRENT ROW AND 10 FOLLOWING\n",
    "                        ) AS window_sum\n",
    "                    FROM readings\n",
    "                    WHERE detector_id = 146\n",
    "                    ORDER BY starttime\n",
    "                    LIMIT 500;\n",
    "                    \"\"\", conn)\n",
    "ex4.to_pickle(\"proj6_ex04_detector_146_sum.pkl\")\n",
    "print(ex4)"
   ]
  },
  {
   "cell_type": "code",
   "execution_count": null,
   "id": "b43f8f85",
   "metadata": {},
   "outputs": [],
   "source": [
    "conn.close()"
   ]
  }
 ],
 "metadata": {
  "kernelspec": {
   "display_name": "venv",
   "language": "python",
   "name": "python3"
  },
  "language_info": {
   "codemirror_mode": {
    "name": "ipython",
    "version": 3
   },
   "file_extension": ".py",
   "mimetype": "text/x-python",
   "name": "python",
   "nbconvert_exporter": "python",
   "pygments_lexer": "ipython3",
   "version": "3.12.8"
  }
 },
 "nbformat": 4,
 "nbformat_minor": 5
}
