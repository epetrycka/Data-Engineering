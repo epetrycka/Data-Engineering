{
 "cells": [
  {
   "cell_type": "code",
   "execution_count": 1,
   "id": "bf1d90a1",
   "metadata": {},
   "outputs": [],
   "source": [
    "import pandas as pd\n",
    "import sqlite3\n",
    "import bz2\n",
    "\n",
    "url = \"http://awing.kis.agh.edu.pl:8080/detectors_names_traffic_s_small.csv.bz2\"\n",
    "file_name = \"detectors.csv.bz2\"\n",
    "\n",
    "import urllib.request\n",
    "urllib.request.urlretrieve(url, file_name)\n",
    "\n",
    "with bz2.open(file_name, \"rt\") as f:\n",
    "    df = pd.read_csv(f)"
   ]
  },
  {
   "cell_type": "code",
   "execution_count": 2,
   "id": "3399f047",
   "metadata": {},
   "outputs": [
    {
     "data": {
      "text/plain": [
       "50000000"
      ]
     },
     "execution_count": 2,
     "metadata": {},
     "output_type": "execute_result"
    }
   ],
   "source": [
    "conn = sqlite3.connect(\"proj6_readings.sqlite\")\n",
    "df.to_sql(\"readings\", conn, if_exists=\"replace\", index=False)\n",
    "# conn.close()"
   ]
  },
  {
   "cell_type": "code",
   "execution_count": 3,
   "id": "47b874ab",
   "metadata": {},
   "outputs": [],
   "source": [
    "cur = conn.cursor()\n",
    "\n",
    "cur.execute(\"\"\"CREATE INDEX detector_id ON readings (detector_id);\"\"\")\n",
    "cur.execute(\"\"\"CREATE INDEX starttime ON readings (starttime);\"\"\")\n",
    "conn.commit()"
   ]
  },
  {
   "cell_type": "code",
   "execution_count": 16,
   "id": "bde2f5c5",
   "metadata": {},
   "outputs": [
    {
     "name": "stdout",
     "output_type": "stream",
     "text": [
      "(1, 1)\n"
     ]
    }
   ],
   "source": [
    "ex1 = pd.read_sql(\"SELECT COUNT(DISTINCT detector_id) FROM readings\", conn)\n",
    "print(ex1.shape)\n",
    "ex1.to_pickle(\"proj6_ex01_detector_no.pkl\")"
   ]
  },
  {
   "cell_type": "code",
   "execution_count": 21,
   "id": "ef648f95",
   "metadata": {},
   "outputs": [],
   "source": [
    "ex2 = pd.read_sql(\"SELECT detector_id, COUNT(detector_id), MIN(starttime), MAX(starttime) FROM readings GROUP BY detector_id\", conn)\n",
    "ex2.to_pickle(\"proj6_ex02_detector_stat.pkl\")"
   ]
  },
  {
   "cell_type": "code",
   "execution_count": 27,
   "id": "ef713dda",
   "metadata": {},
   "outputs": [],
   "source": [
    "ex3 = pd.read_sql(\"\"\"\n",
    "                    SELECT \n",
    "                        detector_id,\n",
    "                        count,\n",
    "                        LAG(count) OVER (PARTITION BY detector_id ORDER BY starttime) AS prev_count\n",
    "                    FROM readings\n",
    "                    WHERE detector_id = 146\n",
    "                    ORDER BY starttime\n",
    "                    LIMIT 500;\n",
    "                  \"\"\", conn)\n",
    "ex3.to_pickle(\"proj6_ex03_detector_146_lag.pkl\")"
   ]
  },
  {
   "cell_type": "code",
   "execution_count": 29,
   "id": "1ec09356",
   "metadata": {},
   "outputs": [],
   "source": [
    "ex4 = pd.read_sql(\"\"\"\n",
    "                    SELECT \n",
    "                        detector_id,\n",
    "                        starttime,\n",
    "                        count,\n",
    "                        SUM(count) OVER (\n",
    "                            PARTITION BY detector_id \n",
    "                            ORDER BY starttime \n",
    "                            ROWS BETWEEN CURRENT ROW AND 9 FOLLOWING\n",
    "                        ) AS rolling_sum\n",
    "                    FROM readings\n",
    "                    WHERE detector_id = 146\n",
    "                    ORDER BY starttime\n",
    "                    LIMIT 500;\n",
    "                    \"\"\", conn)\n",
    "ex4.to_pickle(\"proj6_ex04_detector_146_rolling10.pkl\")"
   ]
  }
 ],
 "metadata": {
  "kernelspec": {
   "display_name": "venv",
   "language": "python",
   "name": "python3"
  },
  "language_info": {
   "codemirror_mode": {
    "name": "ipython",
    "version": 3
   },
   "file_extension": ".py",
   "mimetype": "text/x-python",
   "name": "python",
   "nbconvert_exporter": "python",
   "pygments_lexer": "ipython3",
   "version": "3.12.8"
  }
 },
 "nbformat": 4,
 "nbformat_minor": 5
}
